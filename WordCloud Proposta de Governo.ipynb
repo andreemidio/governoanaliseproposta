{
 "cells": [
  {
   "cell_type": "code",
   "execution_count": 2,
   "metadata": {},
   "outputs": [],
   "source": [
    "import pandas as pd\n",
    "import numpy as np\n",
    "import wordcloud\n",
    "import matplotlib.pyplot as plt\n",
    "import os\n",
    "from os import path\n",
    "\n",
    "import PyPDF2\n",
    "\n",
    "from PIL import Image\n",
    "\n",
    "from PIL import Image\n",
    "import sys\n",
    "from pyocr import pyocr\n",
    "from pyocr import builders"
   ]
  },
  {
   "cell_type": "code",
   "execution_count": 27,
   "metadata": {},
   "outputs": [
    {
     "ename": "FileNotFoundError",
     "evalue": "[Errno 2] No such file or directory: 'programa-de-governo-geraldo-alckmin-2018.pdf'",
     "output_type": "error",
     "traceback": [
      "\u001b[1;31m---------------------------------------------------------------------------\u001b[0m",
      "\u001b[1;31mFileNotFoundError\u001b[0m                         Traceback (most recent call last)",
      "\u001b[1;32m<ipython-input-27-30e1e53dd548>\u001b[0m in \u001b[0;36m<module>\u001b[1;34m()\u001b[0m\n\u001b[1;32m----> 1\u001b[1;33m \u001b[0mpdf\u001b[0m \u001b[1;33m=\u001b[0m \u001b[0mPyPDF2\u001b[0m\u001b[1;33m.\u001b[0m\u001b[0mPdfFileReader\u001b[0m\u001b[1;33m(\u001b[0m\u001b[0mopen\u001b[0m\u001b[1;33m(\u001b[0m\u001b[1;34m\"programa-de-governo-geraldo-alckmin-2018.pdf\"\u001b[0m\u001b[1;33m,\u001b[0m\u001b[1;34m\"rb\"\u001b[0m\u001b[1;33m)\u001b[0m\u001b[1;33m)\u001b[0m\u001b[1;33m\u001b[0m\u001b[0m\n\u001b[0m",
      "\u001b[1;31mFileNotFoundError\u001b[0m: [Errno 2] No such file or directory: 'programa-de-governo-geraldo-alckmin-2018.pdf'"
     ]
    }
   ],
   "source": [
    "pdf = PyPDF2.PdfFileReader(open(\"programa-de-governo-geraldo-alckmin-2018.pdf\",\"rb\"))"
   ]
  },
  {
   "cell_type": "code",
   "execution_count": 31,
   "metadata": {},
   "outputs": [],
   "source": [
    "from PIL import Image as PI\n",
    "import pyocr\n",
    "import pyocr.builders\n",
    "import io"
   ]
  },
  {
   "cell_type": "code",
   "execution_count": 32,
   "metadata": {},
   "outputs": [],
   "source": [
    "from wand.image import Image"
   ]
  },
  {
   "cell_type": "code",
   "execution_count": 33,
   "metadata": {},
   "outputs": [
    {
     "ename": "IndexError",
     "evalue": "list index out of range",
     "output_type": "error",
     "traceback": [
      "\u001b[1;31m---------------------------------------------------------------------------\u001b[0m",
      "\u001b[1;31mIndexError\u001b[0m                                Traceback (most recent call last)",
      "\u001b[1;32m<ipython-input-33-80f2811bb2f6>\u001b[0m in \u001b[0;36m<module>\u001b[1;34m()\u001b[0m\n\u001b[1;32m----> 1\u001b[1;33m \u001b[0mtool\u001b[0m \u001b[1;33m=\u001b[0m \u001b[0mpyocr\u001b[0m\u001b[1;33m.\u001b[0m\u001b[0mget_available_tools\u001b[0m\u001b[1;33m(\u001b[0m\u001b[1;33m)\u001b[0m\u001b[1;33m[\u001b[0m\u001b[1;36m0\u001b[0m\u001b[1;33m]\u001b[0m\u001b[1;33m\u001b[0m\u001b[0m\n\u001b[0m",
      "\u001b[1;31mIndexError\u001b[0m: list index out of range"
     ]
    }
   ],
   "source": [
    "tool = pyocr.get_available_tools()[0]"
   ]
  },
  {
   "cell_type": "code",
   "execution_count": 22,
   "metadata": {},
   "outputs": [
    {
     "ename": "AttributeError",
     "evalue": "'list' object has no attribute 'get_available_languages'",
     "output_type": "error",
     "traceback": [
      "\u001b[1;31m---------------------------------------------------------------------------\u001b[0m",
      "\u001b[1;31mAttributeError\u001b[0m                            Traceback (most recent call last)",
      "\u001b[1;32m<ipython-input-22-a772313c272f>\u001b[0m in \u001b[0;36m<module>\u001b[1;34m()\u001b[0m\n\u001b[1;32m----> 1\u001b[1;33m \u001b[0mlang\u001b[0m \u001b[1;33m=\u001b[0m \u001b[0mtool\u001b[0m\u001b[1;33m.\u001b[0m\u001b[0mget_available_languages\u001b[0m\u001b[1;33m(\u001b[0m\u001b[1;33m)\u001b[0m\u001b[1;33m[\u001b[0m\u001b[1;36m1\u001b[0m\u001b[1;33m]\u001b[0m\u001b[1;33m\u001b[0m\u001b[0m\n\u001b[0m",
      "\u001b[1;31mAttributeError\u001b[0m: 'list' object has no attribute 'get_available_languages'"
     ]
    }
   ],
   "source": [
    "lang = tool.get_available_languages()[1]"
   ]
  },
  {
   "cell_type": "code",
   "execution_count": 14,
   "metadata": {},
   "outputs": [],
   "source": [
    "req_image = []\n",
    "final_text = []"
   ]
  },
  {
   "cell_type": "code",
   "execution_count": 23,
   "metadata": {},
   "outputs": [
    {
     "ename": "BlobError",
     "evalue": "unable to open image `./PDF_FILE_NAME': No such file or directory @ error/blob.c/OpenBlob/2873",
     "output_type": "error",
     "traceback": [
      "\u001b[1;31m---------------------------------------------------------------------------\u001b[0m",
      "\u001b[1;31mBlobError\u001b[0m                                 Traceback (most recent call last)",
      "\u001b[1;32m<ipython-input-23-87f03e910602>\u001b[0m in \u001b[0;36m<module>\u001b[1;34m()\u001b[0m\n\u001b[1;32m----> 1\u001b[1;33m \u001b[0mimage_pdf\u001b[0m \u001b[1;33m=\u001b[0m \u001b[0mImage\u001b[0m\u001b[1;33m(\u001b[0m\u001b[0mfilename\u001b[0m\u001b[1;33m=\u001b[0m\u001b[1;34m\"./PDF_FILE_NAME\"\u001b[0m\u001b[1;33m,\u001b[0m \u001b[0mresolution\u001b[0m\u001b[1;33m=\u001b[0m\u001b[1;36m300\u001b[0m\u001b[1;33m)\u001b[0m\u001b[1;33m\u001b[0m\u001b[0m\n\u001b[0m\u001b[0;32m      2\u001b[0m \u001b[0mimage_jpeg\u001b[0m \u001b[1;33m=\u001b[0m \u001b[0mimage_pdf\u001b[0m\u001b[1;33m.\u001b[0m\u001b[0mconvert\u001b[0m\u001b[1;33m(\u001b[0m\u001b[1;34m'jpeg'\u001b[0m\u001b[1;33m)\u001b[0m\u001b[1;33m\u001b[0m\u001b[0m\n",
      "\u001b[1;32m~\\Anaconda3\\lib\\site-packages\\wand\\image.py\u001b[0m in \u001b[0;36m__init__\u001b[1;34m(self, image, blob, file, filename, format, width, height, depth, background, resolution)\u001b[0m\n\u001b[0;32m   2742\u001b[0m                     \u001b[0mself\u001b[0m\u001b[1;33m.\u001b[0m\u001b[0mread\u001b[0m\u001b[1;33m(\u001b[0m\u001b[0mblob\u001b[0m\u001b[1;33m=\u001b[0m\u001b[0mblob\u001b[0m\u001b[1;33m,\u001b[0m \u001b[0mresolution\u001b[0m\u001b[1;33m=\u001b[0m\u001b[0mresolution\u001b[0m\u001b[1;33m)\u001b[0m\u001b[1;33m\u001b[0m\u001b[0m\n\u001b[0;32m   2743\u001b[0m                 \u001b[1;32melif\u001b[0m \u001b[0mfilename\u001b[0m \u001b[1;32mis\u001b[0m \u001b[1;32mnot\u001b[0m \u001b[1;32mNone\u001b[0m\u001b[1;33m:\u001b[0m\u001b[1;33m\u001b[0m\u001b[0m\n\u001b[1;32m-> 2744\u001b[1;33m                     \u001b[0mself\u001b[0m\u001b[1;33m.\u001b[0m\u001b[0mread\u001b[0m\u001b[1;33m(\u001b[0m\u001b[0mfilename\u001b[0m\u001b[1;33m=\u001b[0m\u001b[0mfilename\u001b[0m\u001b[1;33m,\u001b[0m \u001b[0mresolution\u001b[0m\u001b[1;33m=\u001b[0m\u001b[0mresolution\u001b[0m\u001b[1;33m)\u001b[0m\u001b[1;33m\u001b[0m\u001b[0m\n\u001b[0m\u001b[0;32m   2745\u001b[0m                 \u001b[1;31m# clear the wand format, otherwise any subsequent call to\u001b[0m\u001b[1;33m\u001b[0m\u001b[1;33m\u001b[0m\u001b[0m\n\u001b[0;32m   2746\u001b[0m                 \u001b[1;31m# MagickGetImageBlob will silently change the image to this\u001b[0m\u001b[1;33m\u001b[0m\u001b[1;33m\u001b[0m\u001b[0m\n",
      "\u001b[1;32m~\\Anaconda3\\lib\\site-packages\\wand\\image.py\u001b[0m in \u001b[0;36mread\u001b[1;34m(self, file, filename, blob, resolution)\u001b[0m\n\u001b[0;32m   2820\u001b[0m             \u001b[0mr\u001b[0m \u001b[1;33m=\u001b[0m \u001b[0mlibrary\u001b[0m\u001b[1;33m.\u001b[0m\u001b[0mMagickReadImage\u001b[0m\u001b[1;33m(\u001b[0m\u001b[0mself\u001b[0m\u001b[1;33m.\u001b[0m\u001b[0mwand\u001b[0m\u001b[1;33m,\u001b[0m \u001b[0mfilename\u001b[0m\u001b[1;33m)\u001b[0m\u001b[1;33m\u001b[0m\u001b[0m\n\u001b[0;32m   2821\u001b[0m         \u001b[1;32mif\u001b[0m \u001b[1;32mnot\u001b[0m \u001b[0mr\u001b[0m\u001b[1;33m:\u001b[0m\u001b[1;33m\u001b[0m\u001b[0m\n\u001b[1;32m-> 2822\u001b[1;33m             \u001b[0mself\u001b[0m\u001b[1;33m.\u001b[0m\u001b[0mraise_exception\u001b[0m\u001b[1;33m(\u001b[0m\u001b[1;33m)\u001b[0m\u001b[1;33m\u001b[0m\u001b[0m\n\u001b[0m\u001b[0;32m   2823\u001b[0m \u001b[1;33m\u001b[0m\u001b[0m\n\u001b[0;32m   2824\u001b[0m     \u001b[1;32mdef\u001b[0m \u001b[0mclose\u001b[0m\u001b[1;33m(\u001b[0m\u001b[0mself\u001b[0m\u001b[1;33m)\u001b[0m\u001b[1;33m:\u001b[0m\u001b[1;33m\u001b[0m\u001b[0m\n",
      "\u001b[1;32m~\\Anaconda3\\lib\\site-packages\\wand\\resource.py\u001b[0m in \u001b[0;36mraise_exception\u001b[1;34m(self, stacklevel)\u001b[0m\n\u001b[0;32m    220\u001b[0m             \u001b[0mwarnings\u001b[0m\u001b[1;33m.\u001b[0m\u001b[0mwarn\u001b[0m\u001b[1;33m(\u001b[0m\u001b[0me\u001b[0m\u001b[1;33m,\u001b[0m \u001b[0mstacklevel\u001b[0m\u001b[1;33m=\u001b[0m\u001b[0mstacklevel\u001b[0m \u001b[1;33m+\u001b[0m \u001b[1;36m1\u001b[0m\u001b[1;33m)\u001b[0m\u001b[1;33m\u001b[0m\u001b[0m\n\u001b[0;32m    221\u001b[0m         \u001b[1;32melif\u001b[0m \u001b[0misinstance\u001b[0m\u001b[1;33m(\u001b[0m\u001b[0me\u001b[0m\u001b[1;33m,\u001b[0m \u001b[0mException\u001b[0m\u001b[1;33m)\u001b[0m\u001b[1;33m:\u001b[0m\u001b[1;33m\u001b[0m\u001b[0m\n\u001b[1;32m--> 222\u001b[1;33m             \u001b[1;32mraise\u001b[0m \u001b[0me\u001b[0m\u001b[1;33m\u001b[0m\u001b[0m\n\u001b[0m\u001b[0;32m    223\u001b[0m \u001b[1;33m\u001b[0m\u001b[0m\n\u001b[0;32m    224\u001b[0m     \u001b[1;32mdef\u001b[0m \u001b[0m__enter__\u001b[0m\u001b[1;33m(\u001b[0m\u001b[0mself\u001b[0m\u001b[1;33m)\u001b[0m\u001b[1;33m:\u001b[0m\u001b[1;33m\u001b[0m\u001b[0m\n",
      "\u001b[1;31mBlobError\u001b[0m: unable to open image `./PDF_FILE_NAME': No such file or directory @ error/blob.c/OpenBlob/2873"
     ]
    }
   ],
   "source": [
    "image_pdf = Image(filename=\"./PDF_FILE_NAME\", resolution=300)\n",
    "image_jpeg = image_pdf.convert('jpeg')"
   ]
  },
  {
   "cell_type": "code",
   "execution_count": 24,
   "metadata": {},
   "outputs": [
    {
     "ename": "NameError",
     "evalue": "name 'image_jpeg' is not defined",
     "output_type": "error",
     "traceback": [
      "\u001b[1;31m---------------------------------------------------------------------------\u001b[0m",
      "\u001b[1;31mNameError\u001b[0m                                 Traceback (most recent call last)",
      "\u001b[1;32m<ipython-input-24-55eb89840613>\u001b[0m in \u001b[0;36m<module>\u001b[1;34m()\u001b[0m\n\u001b[1;32m----> 1\u001b[1;33m \u001b[1;32mfor\u001b[0m \u001b[0mimg\u001b[0m \u001b[1;32min\u001b[0m \u001b[0mimage_jpeg\u001b[0m\u001b[1;33m.\u001b[0m\u001b[0msequence\u001b[0m\u001b[1;33m:\u001b[0m\u001b[1;33m\u001b[0m\u001b[0m\n\u001b[0m\u001b[0;32m      2\u001b[0m     \u001b[0mimg_page\u001b[0m \u001b[1;33m=\u001b[0m \u001b[0mImage\u001b[0m\u001b[1;33m(\u001b[0m\u001b[0mimage\u001b[0m\u001b[1;33m=\u001b[0m\u001b[0mimg\u001b[0m\u001b[1;33m)\u001b[0m\u001b[1;33m\u001b[0m\u001b[0m\n\u001b[0;32m      3\u001b[0m     \u001b[0mreq_image\u001b[0m\u001b[1;33m.\u001b[0m\u001b[0mappend\u001b[0m\u001b[1;33m(\u001b[0m\u001b[0mimg_page\u001b[0m\u001b[1;33m.\u001b[0m\u001b[0mmake_blob\u001b[0m\u001b[1;33m(\u001b[0m\u001b[1;34m'jpeg'\u001b[0m\u001b[1;33m)\u001b[0m\u001b[1;33m)\u001b[0m\u001b[1;33m\u001b[0m\u001b[0m\n",
      "\u001b[1;31mNameError\u001b[0m: name 'image_jpeg' is not defined"
     ]
    }
   ],
   "source": [
    "for img in image_jpeg.sequence:\n",
    "    img_page = Image(image=img)\n",
    "    req_image.append(img_page.make_blob('jpeg'))"
   ]
  },
  {
   "cell_type": "code",
   "execution_count": 25,
   "metadata": {},
   "outputs": [
    {
     "name": "stderr",
     "output_type": "stream",
     "text": [
      "Exception ignored in: <bound method Resource.__del__ of <wand.image.Image: (empty)>>\n",
      "Traceback (most recent call last):\n",
      "  File \"C:\\Users\\Andre\\Anaconda3\\lib\\site-packages\\wand\\resource.py\", line 232, in __del__\n",
      "    self.destroy()\n",
      "  File \"C:\\Users\\Andre\\Anaconda3\\lib\\site-packages\\wand\\image.py\", line 2767, in destroy\n",
      "    for i in range(0, len(self.sequence)):\n",
      "TypeError: object of type 'NoneType' has no len()\n"
     ]
    }
   ],
   "source": [
    "for img in req_image: \n",
    "    txt = tool.image_to_string(\n",
    "        PI.open(io.BytesIO(img)),\n",
    "        lang=lang,\n",
    "        builder=pyocr.builders.TextBuilder()\n",
    "    )\n",
    "    final_text.append(txt)"
   ]
  },
  {
   "cell_type": "code",
   "execution_count": 1,
   "metadata": {},
   "outputs": [
    {
     "ename": "NameError",
     "evalue": "name 'pd' is not defined",
     "output_type": "error",
     "traceback": [
      "\u001b[1;31m---------------------------------------------------------------------------\u001b[0m",
      "\u001b[1;31mNameError\u001b[0m                                 Traceback (most recent call last)",
      "\u001b[1;32m<ipython-input-1-ff87f244f283>\u001b[0m in \u001b[0;36m<module>\u001b[1;34m()\u001b[0m\n\u001b[1;32m----> 1\u001b[1;33m \u001b[0mpdp\u001b[0m \u001b[1;33m=\u001b[0m \u001b[0mpd\u001b[0m\u001b[1;33m.\u001b[0m\u001b[0mread_csv\u001b[0m\u001b[1;33m(\u001b[0m\u001b[1;34m'candidatos.csv'\u001b[0m\u001b[1;33m,\u001b[0m \u001b[0msep\u001b[0m\u001b[1;33m=\u001b[0m\u001b[1;34m','\u001b[0m\u001b[1;33m)\u001b[0m\u001b[1;33m\u001b[0m\u001b[0m\n\u001b[0m",
      "\u001b[1;31mNameError\u001b[0m: name 'pd' is not defined"
     ]
    }
   ],
   "source": [
    "pdp = pd.read_csv('candidatos.csv', sep=',')"
   ]
  },
  {
   "cell_type": "code",
   "execution_count": 35,
   "metadata": {},
   "outputs": [
    {
     "data": {
      "text/html": [
       "<div>\n",
       "<style scoped>\n",
       "    .dataframe tbody tr th:only-of-type {\n",
       "        vertical-align: middle;\n",
       "    }\n",
       "\n",
       "    .dataframe tbody tr th {\n",
       "        vertical-align: top;\n",
       "    }\n",
       "\n",
       "    .dataframe thead th {\n",
       "        text-align: right;\n",
       "    }\n",
       "</style>\n",
       "<table border=\"1\" class=\"dataframe\">\n",
       "  <thead>\n",
       "    <tr style=\"text-align: right;\">\n",
       "      <th></th>\n",
       "      <th>Indice</th>\n",
       "      <th>Nome</th>\n",
       "      <th>Sobrenome</th>\n",
       "      <th>Plano de Governo</th>\n",
       "      <th>link reduzido</th>\n",
       "      <th>Link direto</th>\n",
       "      <th>Unnamed: 6</th>\n",
       "    </tr>\n",
       "  </thead>\n",
       "  <tbody>\n",
       "    <tr>\n",
       "      <th>0</th>\n",
       "      <td>0</td>\n",
       "      <td>Geraldo</td>\n",
       "      <td>Alckmin</td>\n",
       "      <td>https://t.co/G1vgEtXFGihttps://www.geraldoalck...</td>\n",
       "      <td>NaN</td>\n",
       "      <td>NaN</td>\n",
       "      <td>NaN</td>\n",
       "    </tr>\n",
       "    <tr>\n",
       "      <th>1</th>\n",
       "      <td>1</td>\n",
       "      <td>Jair</td>\n",
       "      <td>Bolsonaro</td>\n",
       "      <td>https://t.co/Lgj1Oc6ds5</td>\n",
       "      <td>https://drive.google.com/file/d/13VHWWffHTsNnP...</td>\n",
       "      <td>NaN</td>\n",
       "      <td>NaN</td>\n",
       "    </tr>\n",
       "    <tr>\n",
       "      <th>2</th>\n",
       "      <td>2</td>\n",
       "      <td>Guilherme</td>\n",
       "      <td>Boulos</td>\n",
       "      <td>https://t.co/Smc40CduWK</td>\n",
       "      <td>https://s3.amazonaws.com/gp-info-eleicoes/wp-c...</td>\n",
       "      <td>NaN</td>\n",
       "      <td>NaN</td>\n",
       "    </tr>\n",
       "    <tr>\n",
       "      <th>3</th>\n",
       "      <td>3</td>\n",
       "      <td>Cabo</td>\n",
       "      <td>Daciolo</td>\n",
       "      <td>https://t.co/NGmJYRVzhU</td>\n",
       "      <td>http://divulgacandcontas.tse.jus.br/candidatur...</td>\n",
       "      <td>NaN</td>\n",
       "      <td>NaN</td>\n",
       "    </tr>\n",
       "    <tr>\n",
       "      <th>4</th>\n",
       "      <td>4</td>\n",
       "      <td>Ciro</td>\n",
       "      <td>Gomes</td>\n",
       "      <td>https://t.co/rEE6bderRF</td>\n",
       "      <td>http://www.pdt.org.br/wp-content/uploads/2018/...</td>\n",
       "      <td>NaN</td>\n",
       "      <td>NaN</td>\n",
       "    </tr>\n",
       "    <tr>\n",
       "      <th>5</th>\n",
       "      <td>5</td>\n",
       "      <td>Haddad</td>\n",
       "      <td>Lula</td>\n",
       "      <td>https://t.co/sGJ74f9Zet</td>\n",
       "      <td>https://lula.com.br/wp-content/uploads/2018/08...</td>\n",
       "      <td>NaN</td>\n",
       "      <td>NaN</td>\n",
       "    </tr>\n",
       "    <tr>\n",
       "      <th>6</th>\n",
       "      <td>6</td>\n",
       "      <td>João</td>\n",
       "      <td>Amoêdo</td>\n",
       "      <td>https://t.co/w0WtyUQupV</td>\n",
       "      <td>http://joaoamoedo.com.br/programa-de-governo/</td>\n",
       "      <td>NaN</td>\n",
       "      <td>NaN</td>\n",
       "    </tr>\n",
       "    <tr>\n",
       "      <th>7</th>\n",
       "      <td>7</td>\n",
       "      <td>Marina</td>\n",
       "      <td>Silva</td>\n",
       "      <td>https://t.co/8ycr39S9ov</td>\n",
       "      <td>https://static.poder360.com.br/2018/08/MS18_Di...</td>\n",
       "      <td>NaN</td>\n",
       "      <td>NaN</td>\n",
       "    </tr>\n",
       "    <tr>\n",
       "      <th>8</th>\n",
       "      <td>8</td>\n",
       "      <td>Henrique</td>\n",
       "      <td>Meireles</td>\n",
       "      <td>https://t.co/jX6oKwTrz6</td>\n",
       "      <td>Fora do Ar.</td>\n",
       "      <td>NaN</td>\n",
       "      <td>NaN</td>\n",
       "    </tr>\n",
       "  </tbody>\n",
       "</table>\n",
       "</div>"
      ],
      "text/plain": [
       "   Indice        Nome    Sobrenome  \\\n",
       "0        0     Geraldo     Alckmin   \n",
       "1        1        Jair   Bolsonaro   \n",
       "2        2   Guilherme      Boulos   \n",
       "3        3        Cabo     Daciolo   \n",
       "4        4        Ciro       Gomes   \n",
       "5        5      Haddad        Lula   \n",
       "6        6        João      Amoêdo   \n",
       "7        7      Marina       Silva   \n",
       "8        8    Henrique    Meireles   \n",
       "\n",
       "                                    Plano de Governo  \\\n",
       "0  https://t.co/G1vgEtXFGihttps://www.geraldoalck...   \n",
       "1                            https://t.co/Lgj1Oc6ds5   \n",
       "2                            https://t.co/Smc40CduWK   \n",
       "3                            https://t.co/NGmJYRVzhU   \n",
       "4                            https://t.co/rEE6bderRF   \n",
       "5                            https://t.co/sGJ74f9Zet   \n",
       "6                            https://t.co/w0WtyUQupV   \n",
       "7                            https://t.co/8ycr39S9ov   \n",
       "8                            https://t.co/jX6oKwTrz6   \n",
       "\n",
       "                                       link reduzido   Link direto  Unnamed: 6  \n",
       "0                                                NaN           NaN         NaN  \n",
       "1  https://drive.google.com/file/d/13VHWWffHTsNnP...           NaN         NaN  \n",
       "2  https://s3.amazonaws.com/gp-info-eleicoes/wp-c...           NaN         NaN  \n",
       "3  http://divulgacandcontas.tse.jus.br/candidatur...           NaN         NaN  \n",
       "4  http://www.pdt.org.br/wp-content/uploads/2018/...           NaN         NaN  \n",
       "5  https://lula.com.br/wp-content/uploads/2018/08...           NaN         NaN  \n",
       "6      http://joaoamoedo.com.br/programa-de-governo/           NaN         NaN  \n",
       "7  https://static.poder360.com.br/2018/08/MS18_Di...           NaN         NaN  \n",
       "8                                        Fora do Ar.           NaN         NaN  "
      ]
     },
     "execution_count": 35,
     "metadata": {},
     "output_type": "execute_result"
    }
   ],
   "source": [
    "pdp"
   ]
  }
 ],
 "metadata": {
  "kernelspec": {
   "display_name": "Python 3",
   "language": "python",
   "name": "python3"
  },
  "language_info": {
   "codemirror_mode": {
    "name": "ipython",
    "version": 3
   },
   "file_extension": ".py",
   "mimetype": "text/x-python",
   "name": "python",
   "nbconvert_exporter": "python",
   "pygments_lexer": "ipython3",
   "version": "3.6.4"
  }
 },
 "nbformat": 4,
 "nbformat_minor": 2
}
